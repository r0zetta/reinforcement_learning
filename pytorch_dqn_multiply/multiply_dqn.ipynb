{
 "cells": [
  {
   "cell_type": "code",
   "execution_count": 31,
   "metadata": {
    "collapsed": true
   },
   "outputs": [],
   "source": [
    "from multiply import *\n",
    "from collections import deque\n",
    "import torch\n",
    "import torch.nn as nn\n",
    "import torch.nn.functional as F\n",
    "import torch.optim as optim\n",
    "import random\n",
    "\n",
    "max_vars = 12\n",
    "num_vars = 2\n",
    "gamma = 0.99\n",
    "epsilon = 1\n",
    "epsilon_degrade = 0.00001\n",
    "epsilon_min = 0.0\n",
    "batch_size = 25\n",
    "replay_memory_capacity = 10000\n",
    "num_episodes = 10000\n",
    "episode_length = 100\n",
    "accuracy = [0.0]"
   ]
  },
  {
   "cell_type": "code",
   "execution_count": 32,
   "metadata": {
    "collapsed": true
   },
   "outputs": [],
   "source": [
    "class DQN(nn.Module):\n",
    "    def __init__(self, num_actions, input_size, hidden_size):\n",
    "        super(DQN, self).__init__()\n",
    "        self.fc1 = nn.Linear(input_size, hidden_size)\n",
    "        self.fc2 = nn.Linear(hidden_size, hidden_size)\n",
    "        self.fc3 = nn.Linear(hidden_size, num_actions)\n",
    "        \n",
    "    def forward(self, x):\n",
    "        x = F.relu(self.fc1(x))\n",
    "        x = F.relu(self.fc2(x))\n",
    "        x = F.softmax(self.fc3(x))\n",
    "        return x"
   ]
  },
  {
   "cell_type": "code",
   "execution_count": 33,
   "metadata": {},
   "outputs": [
    {
     "name": "stdout",
     "output_type": "stream",
     "text": [
      "DQN(\n",
      "  (fc1): Linear(in_features=24, out_features=144, bias=True)\n",
      "  (fc2): Linear(in_features=144, out_features=144, bias=True)\n",
      "  (fc3): Linear(in_features=144, out_features=144, bias=True)\n",
      ")\n"
     ]
    }
   ],
   "source": [
    "g = game(max_vars, num_vars)\n",
    "hidden_size = g.max_answer\n",
    "num_actions = g.max_answer\n",
    "input_size = g.state.shape[0]\n",
    "model = DQN(num_actions, input_size, hidden_size)\n",
    "optimizer = optim.SGD(model.parameters(), lr=0.01)\n",
    "print(model)"
   ]
  },
  {
   "cell_type": "code",
   "execution_count": 34,
   "metadata": {},
   "outputs": [
    {
     "name": "stdout",
     "output_type": "stream",
     "text": [
      "tensor([[ 1.,  0.,  0.,  0.,  0.,  0.,  0.,  0.,  0.,  0.,  0.,  0.,\n",
      "          0.,  0.,  0.,  0.,  0.,  0.,  1.,  0.,  0.,  0.,  0.,  0.]])\n",
      "tensor([[ 121]])\n"
     ]
    },
    {
     "name": "stderr",
     "output_type": "stream",
     "text": [
      "/usr/local/lib/python3.6/site-packages/ipykernel_launcher.py:11: UserWarning: Implicit dimension choice for softmax has been deprecated. Change the call to include dim=X as an argument.\n",
      "  # This is added back by InteractiveShellApp.init_path()\n"
     ]
    }
   ],
   "source": [
    "state = torch.tensor(g.state, dtype=torch.float).unsqueeze(0)\n",
    "print(state)\n",
    "with torch.no_grad():\n",
    "    #pred = model(state)\n",
    "    action = model(state).max(1)[1].view(1, 1)\n",
    "    print(action)"
   ]
  },
  {
   "cell_type": "code",
   "execution_count": 35,
   "metadata": {
    "collapsed": true
   },
   "outputs": [],
   "source": [
    "replay_memory = deque()\n",
    "iterations = 0"
   ]
  },
  {
   "cell_type": "code",
   "execution_count": null,
   "metadata": {
    "collapsed": true
   },
   "outputs": [],
   "source": [
    "for episode in range(num_episodes):\n",
    "    action = None\n",
    "    prediction = None\n",
    "    done = False\n",
    "    correct_predictions = 0\n",
    "    num_predictions = 0\n",
    "    corrects = 0\n",
    "    predict_accuracy = 0.0\n",
    "    episode_accuracy = 0.0\n",
    "    for step in range(episode_length):\n",
    "        state = g.reset()\n",
    "        state = torch.tensor(state, dtype=torch.float).unsqueeze(0)\n",
    "        iteration += 1\n",
    "        action = None\n",
    "        action_type = \"\"\n",
    "        if random.random() > epsilon:\n",
    "            action_type = \"pred\"\n",
    "            with torch.no_grad():\n",
    "                action = model(state).max(1)[1].view(1, 1) + 1\n",
    "        else:\n",
    "            action_type = \"rand\"\n",
    "            action = g.sample_random_action()[0]\n",
    "        if epsilon > epsilon_min:\n",
    "            epsilon -= epsilon_degrade\n",
    "        reward = g.step(action)\n",
    "        corrects += max(0, reward)\n",
    "        if action_type == \"pred\":\n",
    "            correct_predictions += max(0, reward)\n",
    "            predict_accuracy = float(float(correct_predictions)/float(num_predictions))*100.0\n",
    "        episode_accuracy = float(float(corrects)/float(step+1)) * 100.0\n",
    "        replay_memory.append([state, action-1, reward])\n",
    "        if len(replay_memory) > replay_memory_capacity:\n",
    "            replay_memory.popleft()\n",
    "        if len(replay_memory) > batch_size:\n",
    "            minibatch = random.sample(replay_memory, batch_size)\n",
    "            state_t, action_t, reward_t = zip(*minibatch)\n",
    "            state_t = torch.cat(state_t)\n",
    "            with torch.no_grad():\n",
    "                targets = model(state_t)\n",
    "            targets[range(batch_size), action_t] = reward_t\n",
    "        loss = nn.MSELoss(state_t, targets)\n",
    "        optimizer.zero_grad()\n",
    "        loss.backward()\n",
    "        optimizer.step()\n"
   ]
  }
 ],
 "metadata": {
  "kernelspec": {
   "display_name": "Python 3",
   "language": "python",
   "name": "python3"
  },
  "language_info": {
   "codemirror_mode": {
    "name": "ipython",
    "version": 3
   },
   "file_extension": ".py",
   "mimetype": "text/x-python",
   "name": "python",
   "nbconvert_exporter": "python",
   "pygments_lexer": "ipython3",
   "version": "3.6.5"
  }
 },
 "nbformat": 4,
 "nbformat_minor": 2
}
