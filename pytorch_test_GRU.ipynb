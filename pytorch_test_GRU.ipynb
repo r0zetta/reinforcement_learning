{
 "cells": [
  {
   "cell_type": "code",
   "execution_count": 213,
   "metadata": {
    "collapsed": true
   },
   "outputs": [],
   "source": [
    "import torch\n",
    "import torch.nn as nn\n",
    "import torch.optim as optim\n",
    "import torch.nn.functional as F\n",
    "import random"
   ]
  },
  {
   "cell_type": "code",
   "execution_count": 309,
   "metadata": {},
   "outputs": [
    {
     "name": "stdout",
     "output_type": "stream",
     "text": [
      "TestGRU(\n",
      "  (fc3): Linear(in_features=160, out_features=34, bias=True)\n",
      ")\n",
      "torch.Size([10, 6, 34])\n",
      "torch.Size([10, 34])\n",
      "params\n",
      "torch.Size([34, 160])\n",
      "torch.Size([34])\n"
     ]
    }
   ],
   "source": [
    "class TestGRU(nn.Module):\n",
    "    def __init__(self, voc_len, sent_len, hidden_size, num_layers, filters, filter_len, num_convs, bidirectional):\n",
    "        super(TestGRU, self).__init__()\n",
    "        self.voc_len = voc_len\n",
    "        self.sent_len = sent_len\n",
    "        self.hidden_size = hidden_size\n",
    "        self.num_layers = num_layers\n",
    "        self.num_filters = filters\n",
    "        self.filter_len = filter_len\n",
    "        self.num_convs = num_convs\n",
    "        self.bidirectional = bidirectional\n",
    "        multiplier = 1\n",
    "        if self.bidirectional == True:\n",
    "            multiplier = 2\n",
    "        \n",
    "        self.convs = []\n",
    "        for n in range(self.num_convs):\n",
    "            c = nn.Conv1d(sent_len,\n",
    "                          self.num_filters,\n",
    "                          n+1,\n",
    "                          padding=0)\n",
    "            self.convs.append(c)\n",
    " \n",
    "        self.grus = []\n",
    "        for n in range(self.num_convs):\n",
    "            g = nn.GRU(self.num_filters * (self.voc_len - (n)),\n",
    "                       self.hidden_size,\n",
    "                       self.num_layers,\n",
    "                       bidirectional=bidirectional)\n",
    "            self.grus.append(g)\n",
    "\n",
    "        self.fcs = []\n",
    "        for n in range(self.num_convs):\n",
    "            f =  nn.Linear(multiplier * self.hidden_size,\n",
    "                           hidden_size)\n",
    "            self.fcs.append(f)\n",
    "\n",
    "        self.fc3 = nn.Linear(num_convs * self.hidden_size,\n",
    "                             self.voc_len)\n",
    "    \n",
    "    def forward(self, x):\n",
    "        x1 = []\n",
    "        for n in range(self.num_convs):\n",
    "            l = self.flatten(F.max_pool1d(F.relu(self.convs[n](x)), 3, 1, padding=1))\n",
    "            x1.append(l)\n",
    "        g1 = []\n",
    "        h1 = []\n",
    "        for n in range(self.num_convs):\n",
    "            g, h = self.grus[n](x1[n])\n",
    "            g = g.reshape(g.size()[1:])\n",
    "            g1.append(g)\n",
    "            h1.append(h)\n",
    "        fc = []\n",
    "        for n in range(self.num_convs):\n",
    "            f = F.relu(self.fcs[n](g1[n]))\n",
    "            fc.append(f)\n",
    "        flat = torch.cat((fc), dim=1)\n",
    "        out = self.fc3(flat)\n",
    "        return out\n",
    "    \n",
    "    def flatten(self, v):\n",
    "        f = self.flat_size(v)\n",
    "        s = v.size()[0]\n",
    "        return v.reshape(1, s, f)\n",
    "    \n",
    "    def flat_size(self, t):\n",
    "        ns = t.size()[1:]\n",
    "        f = 1\n",
    "        for s in ns:\n",
    "            f *= s\n",
    "        return f\n",
    "\n",
    "voc_len = 34\n",
    "sent_len = 6\n",
    "rnn_size = 20\n",
    "num_layers = 1\n",
    "filters = 20\n",
    "filter_len = 1\n",
    "num_convs = 8\n",
    "bidirectional = False\n",
    "t = TestGRU(voc_len, sent_len, rnn_size, num_layers, filters, filter_len, num_convs, bidirectional)\n",
    "print(t)\n",
    "\n",
    "seq_len = random.randint(2, 20)\n",
    "i = torch.rand(seq_len, sent_len, voc_len)\n",
    "print(i.size())\n",
    "x = t(i)\n",
    "print(x.size())\n",
    "print(\"params\")\n",
    "for p in t.parameters():\n",
    "    print(p.size())"
   ]
  },
  {
   "cell_type": "code",
   "execution_count": null,
   "metadata": {
    "collapsed": true
   },
   "outputs": [],
   "source": []
  },
  {
   "cell_type": "code",
   "execution_count": null,
   "metadata": {
    "collapsed": true
   },
   "outputs": [],
   "source": []
  },
  {
   "cell_type": "code",
   "execution_count": null,
   "metadata": {
    "collapsed": true
   },
   "outputs": [],
   "source": []
  }
 ],
 "metadata": {
  "kernelspec": {
   "display_name": "Python 3",
   "language": "python",
   "name": "python3"
  },
  "language_info": {
   "codemirror_mode": {
    "name": "ipython",
    "version": 3
   },
   "file_extension": ".py",
   "mimetype": "text/x-python",
   "name": "python",
   "nbconvert_exporter": "python",
   "pygments_lexer": "ipython3",
   "version": "3.6.5"
  }
 },
 "nbformat": 4,
 "nbformat_minor": 2
}
